{
 "cells": [
  {
   "cell_type": "markdown",
   "id": "quality-shareware",
   "metadata": {},
   "source": [
    "# Mardown Notes\n",
    "\n",
    "Reference:\n",
    "* https://towardsdatascience.com/write-markdown-latex-in-the-jupyter-notebook-10985edb91fd"
   ]
  },
  {
   "cell_type": "markdown",
   "id": "superb-riding",
   "metadata": {},
   "source": [
    "## Headings"
   ]
  },
  {
   "cell_type": "code",
   "execution_count": 1,
   "id": "detailed-shooting",
   "metadata": {},
   "outputs": [],
   "source": [
    "# Heading 1\n",
    "## Heading 2\n",
    "### Heading 3\n",
    "#### Heading 4\n",
    "##### Heading 5\n",
    "###### Heading 6"
   ]
  },
  {
   "cell_type": "markdown",
   "id": "antique-instrumentation",
   "metadata": {},
   "source": [
    "# Heading 1\n",
    "## Heading 2\n",
    "### Heading 3\n",
    "#### Heading 4\n",
    "##### Heading 5\n",
    "###### Heading 6"
   ]
  },
  {
   "cell_type": "markdown",
   "id": "provincial-charleston",
   "metadata": {},
   "source": [
    "## equivalent in HTML "
   ]
  },
  {
   "cell_type": "markdown",
   "id": "interstate-phase",
   "metadata": {},
   "source": [
    "\n",
    "<h1>Heading 1</h1>\n",
    "<h2>Heading 2</h2>\n",
    "<h3>Heading 3</h3>\n",
    "<h4>Heading 4</h4>\n",
    "<h5>Heading 5</h5>\n",
    "<h6>Heading 6</h6>"
   ]
  },
  {
   "cell_type": "code",
   "execution_count": null,
   "id": "excellent-selection",
   "metadata": {},
   "outputs": [],
   "source": [
    "# Mark emphasis"
   ]
  },
  {
   "cell_type": "markdown",
   "id": "smaller-programming",
   "metadata": {},
   "source": [
    "Emphasis, aka italics, with *asterisks* or _underscores_.\n",
    "Strong emphasis, aka bold, with **asterisks** or __underscores__.\n",
    "Combined emphasis with **asterisks and _underscores_**.\n",
    "Strikethrough uses two tildes ~ . ~~Scratch this.~~"
   ]
  },
  {
   "cell_type": "code",
   "execution_count": 4,
   "id": "ideal-thickness",
   "metadata": {},
   "outputs": [],
   "source": [
    "# Lists"
   ]
  },
  {
   "cell_type": "markdown",
   "id": "american-statistics",
   "metadata": {},
   "source": [
    "1. Item 1\n",
    "2. Item 2 ( we can type 1. and the markdown will automatically numerate them) \n",
    "* First Item\n",
    "  * Nested item 1\n",
    "  * Nested item 2\n",
    "    1. Keep going\n",
    "    1. Yes\n",
    "  \n",
    "* Second Item\n",
    "- First Item\n",
    "- Second Item"
   ]
  },
  {
   "cell_type": "code",
   "execution_count": 6,
   "id": "hispanic-consultation",
   "metadata": {},
   "outputs": [],
   "source": [
    "# Links and images"
   ]
  },
  {
   "cell_type": "markdown",
   "id": "injured-georgia",
   "metadata": {},
   "source": [
    "<!-- [Text](link) -->\n",
    "[Link Text](https://medium.com/@ahmedazizkhelifi \"Optional Title\")\n",
    "\n",
    "<!-- ![Alt Text](image path \"title\") -->\n",
    "![Alt Text](https://miro.medium.com/max/80/0*PRNVc7bjff0Jj1pm.png \"Optional Title\")\n",
    "\n",
    "<!-- Linking Image -->\n",
    "<!-- [![Alt Text](image path \"title\")](link) -->\n",
    "[![Alt Text](https://miro.medium.com/max/80/0*PRNVc7bjff0Jj1pm.png \"Optional Title\")](https://medium.com/@ahmedazizkhelifi)"
   ]
  },
  {
   "cell_type": "code",
   "execution_count": 7,
   "id": "entire-kazakhstan",
   "metadata": {},
   "outputs": [],
   "source": [
    "# Horizontal lines"
   ]
  },
  {
   "cell_type": "markdown",
   "id": "executed-tackle",
   "metadata": {},
   "source": [
    "Reading articles on Medium is awesome.\n",
    "***\n",
    "Sure !!"
   ]
  },
  {
   "cell_type": "markdown",
   "id": "false-folder",
   "metadata": {},
   "source": [
    "Reading articles on Medium is awesome.\n",
    "___\n",
    "Sure !!"
   ]
  },
  {
   "cell_type": "code",
   "execution_count": 8,
   "id": "satellite-fighter",
   "metadata": {},
   "outputs": [],
   "source": [
    "# Tables"
   ]
  },
  {
   "cell_type": "markdown",
   "id": "sunset-documentary",
   "metadata": {},
   "source": [
    "| Id | Label    | Price |\n",
    "|--- |----------| ------|\n",
    "| 01 | Markdown |\\$1600 |\n",
    "| 02 | is       |  \\$12 |\n",
    "| 03 | AWESOME  | \\$999 |"
   ]
  },
  {
   "cell_type": "code",
   "execution_count": 9,
   "id": "affected-graduate",
   "metadata": {},
   "outputs": [],
   "source": [
    "# Code Syntax"
   ]
  },
  {
   "cell_type": "markdown",
   "id": "missing-warren",
   "metadata": {},
   "source": [
    "```python\n",
    "def staySafe(Coronavirus)\n",
    "  if not home:\n",
    "    return home\n",
    "```"
   ]
  },
  {
   "cell_type": "code",
   "execution_count": 10,
   "id": "alternative-knock",
   "metadata": {},
   "outputs": [],
   "source": [
    "# Blockquotes"
   ]
  },
  {
   "cell_type": "markdown",
   "id": "bacterial-austin",
   "metadata": {},
   "source": [
    "> This is a blockquote.\n",
    ">  \n",
    "> This is part of the same blockquote.\n",
    "Quote break\n",
    "> This is a new blockquote."
   ]
  },
  {
   "cell_type": "code",
   "execution_count": null,
   "id": "electrical-ribbon",
   "metadata": {},
   "outputs": [],
   "source": [
    "# Statistics"
   ]
  },
  {
   "cell_type": "markdown",
   "id": "beneficial-warrior",
   "metadata": {},
   "source": [
    "$$\\pm$$\n",
    "$$\\ge$$\n",
    "$$\\le$$\n",
    "$$\\neq$$\n",
    "$$Z = \\frac{\\bar{Y} - \\mu}{\\sigma_\\bar{Y}}$$\n",
    "\n",
    "0.56 $\\le$ *p* $\\le$ 0.72\n",
    "\n",
    "4.78 $\\le$ $\\mu$ $\\le$ 5.89"
   ]
  },
  {
   "cell_type": "markdown",
   "id": "molecular-bride",
   "metadata": {},
   "source": [
    "\n",
    "$$\n",
    "\\frac{arg 1}{arg 2} \\\\\n",
    "x^2\\\\\n",
    "e^{i\\pi}\\\\\n",
    "A_i\\\\\n",
    "B_{ij}\\\\\n",
    "\\sqrt[n]{arg}\t\n",
    "$$"
   ]
  },
  {
   "cell_type": "markdown",
   "id": "average-buddy",
   "metadata": {},
   "source": [
    "$$\n",
    "sign(x) = \\left\\{\n",
    "    \\begin{array}\\\\\n",
    "        1 & \\mbox{if } \\ x \\in \\mathbf{N}^* \\\\\n",
    "        0 & \\mbox{if } \\ x = 0 \\\\\n",
    "        -1 & \\mbox{else.}\n",
    "    \\end{array}\n",
    "\\right.\n",
    "$$\n",
    "\n",
    "\\\\\n",
    "\n",
    "$$\n",
    " \\left.\n",
    "    \\begin{array} \\\\\n",
    "        \\alpha^2 = \\sqrt5 \\\\\n",
    "        \\alpha \\geq 0 \n",
    "    \\end{array}\n",
    "\\right \\}=\\alpha = 5 \n",
    "$$"
   ]
  },
  {
   "cell_type": "markdown",
   "id": "complex-demonstration",
   "metadata": {},
   "source": [
    "\n",
    "First order derivative : $$f'(x)$$ \n",
    "K-th order derivative  : $$f^{(k)}(x)$$\n",
    "Partial firt order deivative\t: $$\\frac{\\partial f}{\\partial x}$$\n",
    "Partial k-th order derivative\t: $$\\frac{\\partial^{k} f}{\\partial x^k}$$"
   ]
  },
  {
   "cell_type": "markdown",
   "id": "quick-complement",
   "metadata": {},
   "source": [
    "\n",
    "#limit\n",
    "Limit at plus infinity\t: $$\\lim_{x \\to +\\infty} f(x)$$ \n",
    "Limit at minus infinity\t: $$\\lim_{x \\to -\\infty} f(x)$$\t\n",
    "Limit at $\\alpha$  : $$\\lim_{x \\to \\alpha} f(x)$$\n",
    "\n",
    "Max : $$\\max_{x \\in [a,b]}f(x)$$\t\n",
    "Min : $$\\min_{x \\in [\\alpha,\\beta]}f(x)$$\t\n",
    "Sup : $$\\sup_{x \\in \\mathbb{R}}f(x)$$\t\n",
    "Inf : $$\\inf_{x > s}f(x)$$\t"
   ]
  },
  {
   "cell_type": "markdown",
   "id": "together-senate",
   "metadata": {},
   "source": [
    "\n",
    "Sum from 0 to +inf:\n",
    "\n",
    "$$\\sum_{j=0}^{+\\infty} A_{j}$$\n",
    "\n",
    "Double sum:\n",
    "$$\\sum^k_{i=1}\\sum^{l+1}_{j=1}\\,A_i A_j$$\t\n",
    "\n",
    "\n",
    "Taylor expansion of $e^x$:\n",
    "$$ e^x  = \\sum_{k=0}^{n}\\, \\frac{x^k}{k!} + o(x^n) $$ "
   ]
  },
  {
   "cell_type": "markdown",
   "id": "isolated-baseline",
   "metadata": {},
   "source": [
    "Product:\n",
    "$$\\prod_{j=1}^k A_{\\alpha_j}$$\n",
    "Double product:\n",
    "$$\\prod^k_{i=1}\\prod^l_{j=1}\\,A_i A_j$$\t"
   ]
  },
  {
   "cell_type": "markdown",
   "id": "following-batch",
   "metadata": {},
   "source": [
    "\n",
    "Simple integral:\n",
    "$$\\int_{a}^b f(x)dx$$\n",
    "\n",
    "Double integral:\n",
    "$$\\int_{a}^b\\int_{c}^d f(x,y)\\,dxdy$$\t\n",
    "\n",
    "Triple integral:\n",
    "$$\\iiint$$\t\n",
    "\n",
    "Quadruple integral:\n",
    "$$\\iiiint$$\t\n",
    "\n",
    "Multiple integral :\n",
    "$$\\idotsint$$\n",
    "\n",
    "Contour integral:\n",
    "$$\\oint$$\t"
   ]
  },
  {
   "cell_type": "markdown",
   "id": "responsible-cleaner",
   "metadata": {},
   "source": [
    "\n",
    "Plain:\n",
    "\n",
    "\\begin{matrix}\n",
    "1 & 2 & 3\\\\\n",
    "a & b & c\n",
    "\\end{matrix}\n",
    "\n",
    "Round brackets:\n",
    "\\begin{pmatrix}\n",
    "1 & 2 & 3\\\\\n",
    "a & b & c\n",
    "\\end{pmatrix}\n",
    "\n",
    "Curly brackets:\n",
    "\\begin{Bmatrix}\n",
    "1 & 2 & 3\\\\\n",
    "a & b & c\n",
    "\\end{Bmatrix}\t\n",
    "\n",
    "Pipes:\n",
    "\\begin{vmatrix}\n",
    "1 & 2 & 3\\\\\n",
    "a & b & c\n",
    "\\end{vmatrix}\n",
    "\n",
    "Double pipes\n",
    "\\begin{Vmatrix}\n",
    "1 & 2 & 3\\\\\n",
    "a & b & c\n",
    "\\end{Vmatrix}\n",
    "view rawmatrix.tex hosted with ❤ by GitHub"
   ]
  }
 ],
 "metadata": {
  "kernelspec": {
   "display_name": "Python 3",
   "language": "python",
   "name": "python3"
  },
  "language_info": {
   "codemirror_mode": {
    "name": "ipython",
    "version": 3
   },
   "file_extension": ".py",
   "mimetype": "text/x-python",
   "name": "python",
   "nbconvert_exporter": "python",
   "pygments_lexer": "ipython3",
   "version": "3.7.6"
  }
 },
 "nbformat": 4,
 "nbformat_minor": 5
}
